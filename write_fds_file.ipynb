{
  "nbformat": 4,
  "nbformat_minor": 0,
  "metadata": {
    "colab": {
      "provenance": [],
      "authorship_tag": "ABX9TyMnNOu3PP3L4gD9+6xWZmHx",
      "include_colab_link": true
    },
    "kernelspec": {
      "name": "python3",
      "display_name": "Python 3"
    },
    "language_info": {
      "name": "python"
    }
  },
  "cells": [
    {
      "cell_type": "markdown",
      "metadata": {
        "id": "view-in-github",
        "colab_type": "text"
      },
      "source": [
        "<a href=\"https://colab.research.google.com/github/xixiuqi/someCodes/blob/main/write_fds_file.ipynb\" target=\"_parent\"><img src=\"https://colab.research.google.com/assets/colab-badge.svg\" alt=\"Open In Colab\"/></a>"
      ]
    },
    {
      "cell_type": "code",
      "source": [
        "import pandas as pd\n",
        "import matplotlib.pyplot as plt\n",
        "import os"
      ],
      "metadata": {
        "id": "iiSiu5VoJm2R"
      },
      "execution_count": 1,
      "outputs": []
    },
    {
      "cell_type": "code",
      "execution_count": 2,
      "metadata": {
        "colab": {
          "base_uri": "https://localhost:8080/"
        },
        "id": "iqp3wfFIEKFj",
        "outputId": "08244433-35a0-456e-c8f0-472699322c47"
      },
      "outputs": [
        {
          "output_type": "stream",
          "name": "stdout",
          "text": [
            "Mounted at /content/drive\n"
          ]
        }
      ],
      "source": [
        "from google.colab import drive\n",
        "drive.mount('/content/drive')"
      ]
    },
    {
      "cell_type": "code",
      "source": [
        "# Set the path to the folder containing the CSV files\n",
        "folder_path = \"/content/drive/MyDrive/NIST_TCC/\"\n",
        "\n",
        "# Iterate through the files in the folder\n",
        "for filename in os.listdir(folder_path):\n",
        "    # read .fds file\n",
        "    file_path = os.path.join(folder_path, \"raw.fds\")\n",
        "    with open(file_path) as file:\n",
        "        # use read() to read the txt in the file\n",
        "        fds_file = file.read()\n",
        "\n",
        "    # Check if the file is a CSV file\n",
        "    if filename.endswith(\".csv\"):\n",
        "        # Get the full path to the file\n",
        "        file_path = os.path.join(folder_path, filename)\n",
        "\n",
        "        #get the file name without .csv\n",
        "        filename = filename[:-4]\n",
        "\n",
        "        # Read the CSV file into a DataFrame\n",
        "        df = pd.read_csv(file_path)\n",
        "\n",
        "        # Filter the DataFrame to only include rows where time is greater than 0\n",
        "        filtered_df = df[df['Time (s)'] > 0]\n",
        "\n",
        "        # Reset the index of the filtered DataFrame to start from 0\n",
        "        filtered_df = filtered_df.reset_index(drop=True)\n",
        "\n",
        "        # Create the output string\n",
        "        output_string = ''\n",
        "        for i in range(filtered_df.index.start,filtered_df.index.stop):\n",
        "            output_string += f\"&RAMP ID='burner_RAMP_Q', T={filtered_df['Time (s)'][i]}, F={filtered_df['Heat Release Rate (kW)'][i]}\\n\"\n",
        "        # Create a new directory\n",
        "        # os.mkdir(filename)\n",
        "\n",
        "        for meshSize in [10,20,30,40,50]:\n",
        "          print(meshSize)\n",
        "\n",
        "          path_file_mesh_size = filename+'/'+str(meshSize)\n",
        "          # os.mkdir(path_file_mesh_size)\n",
        "\n",
        "          # #create the output ramp file path\n",
        "          # file_path = os.path.join(filename)\n",
        "\n",
        "          # Write the output string to a text file\n",
        "          with open(path_file_mesh_size+'/RAMP.txt', 'w') as f:\n",
        "              f.write(output_string)\n",
        "\n",
        "          search_text = \"&MESH ID='Mesh01', IJK=50,50,50, XB=0.0,3.0,0.0,3.0,0.0,3.0/\"\n",
        "          replace_text = f\"&MESH ID='Mesh01', IJK={meshSize},{meshSize},{meshSize}, XB=0.0,3.0,0.0,3.0,0.0,3.0/\"\n",
        "          fds_file = fds_file.replace(search_text, replace_text)\n",
        "          with open(path_file_mesh_size+'/output.fds', 'w') as f:\n",
        "              f.write(fds_file)\n"
      ],
      "metadata": {
        "id": "VtpJdeakJYJf",
        "colab": {
          "base_uri": "https://localhost:8080/"
        },
        "outputId": "c939c087-0c57-4f1c-db56-a29ad2df317c"
      },
      "execution_count": 26,
      "outputs": [
        {
          "output_type": "stream",
          "name": "stdout",
          "text": [
            "10\n",
            "20\n",
            "30\n",
            "40\n",
            "50\n",
            "10\n",
            "20\n",
            "30\n",
            "40\n",
            "50\n"
          ]
        }
      ]
    },
    {
      "cell_type": "code",
      "source": [
        "os.rmdir(\"1536760151_NGCal_6m_3MW_16kgs\")\n"
      ],
      "metadata": {
        "colab": {
          "base_uri": "https://localhost:8080/",
          "height": 139
        },
        "id": "bNANA9j-tufX",
        "outputId": "3e2c4819-64ee-487f-d922-b86cd0891974"
      },
      "execution_count": 24,
      "outputs": [
        {
          "output_type": "error",
          "ename": "OSError",
          "evalue": "[Errno 39] Directory not empty: '1536760151_NGCal_6m_3MW_16kgs'",
          "traceback": [
            "\u001b[0;31m---------------------------------------------------------------------------\u001b[0m",
            "\u001b[0;31mOSError\u001b[0m                                   Traceback (most recent call last)",
            "\u001b[0;32m<ipython-input-24-9f69cf8ad29a>\u001b[0m in \u001b[0;36m<cell line: 1>\u001b[0;34m()\u001b[0m\n\u001b[0;32m----> 1\u001b[0;31m \u001b[0mos\u001b[0m\u001b[0;34m.\u001b[0m\u001b[0mrmdir\u001b[0m\u001b[0;34m(\u001b[0m\u001b[0;34m\"1536760151_NGCal_6m_3MW_16kgs\"\u001b[0m\u001b[0;34m)\u001b[0m\u001b[0;34m\u001b[0m\u001b[0;34m\u001b[0m\u001b[0m\n\u001b[0m",
            "\u001b[0;31mOSError\u001b[0m: [Errno 39] Directory not empty: '1536760151_NGCal_6m_3MW_16kgs'"
          ]
        }
      ]
    },
    {
      "cell_type": "code",
      "source": [
        "os.rmdir(\"1536765884_NGCal_3mHood_300kW_2kgs\")\n"
      ],
      "metadata": {
        "colab": {
          "base_uri": "https://localhost:8080/",
          "height": 139
        },
        "id": "sRke47TsuyhT",
        "outputId": "5620be20-3fac-42d5-9a60-f777464afd50"
      },
      "execution_count": 23,
      "outputs": [
        {
          "output_type": "error",
          "ename": "OSError",
          "evalue": "[Errno 39] Directory not empty: '1536765884_NGCal_3mHood_300kW_2kgs'",
          "traceback": [
            "\u001b[0;31m---------------------------------------------------------------------------\u001b[0m",
            "\u001b[0;31mOSError\u001b[0m                                   Traceback (most recent call last)",
            "\u001b[0;32m<ipython-input-23-712b3f904e6b>\u001b[0m in \u001b[0;36m<cell line: 1>\u001b[0;34m()\u001b[0m\n\u001b[0;32m----> 1\u001b[0;31m \u001b[0mos\u001b[0m\u001b[0;34m.\u001b[0m\u001b[0mrmdir\u001b[0m\u001b[0;34m(\u001b[0m\u001b[0;34m\"1536765884_NGCal_3mHood_300kW_2kgs\"\u001b[0m\u001b[0;34m)\u001b[0m\u001b[0;34m\u001b[0m\u001b[0;34m\u001b[0m\u001b[0m\n\u001b[0m",
            "\u001b[0;31mOSError\u001b[0m: [Errno 39] Directory not empty: '1536765884_NGCal_3mHood_300kW_2kgs'"
          ]
        }
      ]
    }
  ]
}